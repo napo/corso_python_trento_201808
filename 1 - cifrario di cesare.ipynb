{
 "cells": [
  {
   "cell_type": "markdown",
   "metadata": {},
   "source": [
    "# Cifrario di Cesare\n",
    "![\"fonte wikipedia\"](https://upload.wikimedia.org/wikipedia/commons/thumb/2/2b/Caesar3.svg/300px-Caesar3.svg.png)\n",
    "\n",
    "Le parole vengono cifrate utilizzando la posizione della lettera dell'alfabeto traslata di una posizione a piacere\n"
   ]
  },
  {
   "cell_type": "markdown",
   "metadata": {},
   "source": [
    "## Setup (i dati necessari)\n",
    "* generare un vettore (lista) con tutte le lettere dell'alfabeto\n",
    "* scegliere un valore per la traslazione\n",
    "* generare un vettore (lista) con tutte le lettere dell'alfabeto traslate di quella posizione"
   ]
  },
  {
   "cell_type": "markdown",
   "metadata": {},
   "source": [
    "### generare un vettore (lista) con tutte le lettere dell'alfabeto\n",
    "Questa può essere fatta manualmente oppure generata da python con il modulo \"string\""
   ]
  },
  {
   "cell_type": "code",
   "execution_count": 1,
   "metadata": {},
   "outputs": [],
   "source": [
    "import string"
   ]
  },
  {
   "cell_type": "code",
   "execution_count": 2,
   "metadata": {},
   "outputs": [],
   "source": [
    "# l'elenco alfabetico in caratteri minuscoli si può ottenere così\n",
    "alfabeto=string.ascii_lowercase"
   ]
  },
  {
   "cell_type": "code",
   "execution_count": 3,
   "metadata": {},
   "outputs": [
    {
     "data": {
      "text/plain": [
       "'abcdefghijklmnopqrstuvwxyz'"
      ]
     },
     "execution_count": 3,
     "metadata": {},
     "output_type": "execute_result"
    }
   ],
   "source": [
    "alfabeto"
   ]
  },
  {
   "cell_type": "code",
   "execution_count": 4,
   "metadata": {},
   "outputs": [],
   "source": [
    "# in questo modo l'alfabeto diventa un vettore (lista)\n",
    "list_alfabeto=list(alfabeto)"
   ]
  },
  {
   "cell_type": "code",
   "execution_count": 5,
   "metadata": {},
   "outputs": [
    {
     "data": {
      "text/plain": [
       "['a',\n",
       " 'b',\n",
       " 'c',\n",
       " 'd',\n",
       " 'e',\n",
       " 'f',\n",
       " 'g',\n",
       " 'h',\n",
       " 'i',\n",
       " 'j',\n",
       " 'k',\n",
       " 'l',\n",
       " 'm',\n",
       " 'n',\n",
       " 'o',\n",
       " 'p',\n",
       " 'q',\n",
       " 'r',\n",
       " 's',\n",
       " 't',\n",
       " 'u',\n",
       " 'v',\n",
       " 'w',\n",
       " 'x',\n",
       " 'y',\n",
       " 'z']"
      ]
     },
     "execution_count": 5,
     "metadata": {},
     "output_type": "execute_result"
    }
   ],
   "source": [
    "list_alfabeto"
   ]
  },
  {
   "cell_type": "markdown",
   "metadata": {},
   "source": [
    "### scegliere un valore per la traslazione\n",
    "definiamo un valore a piacere fra 0 e 26 "
   ]
  },
  {
   "cell_type": "code",
   "execution_count": 6,
   "metadata": {},
   "outputs": [],
   "source": [
    "valore_traslazione=4"
   ]
  },
  {
   "cell_type": "markdown",
   "metadata": {},
   "source": [
    "### generare un vettore (lista) con tutte le lettere dell'alfabeto traslate di quella posizione\n",
    "per fare questa operazione prendiamo i valori a sinistra del vettore dal punto deciso"
   ]
  },
  {
   "cell_type": "code",
   "execution_count": 7,
   "metadata": {},
   "outputs": [],
   "source": [
    "list_alfabeto_cifrato=list_alfabeto[4:]"
   ]
  },
  {
   "cell_type": "markdown",
   "metadata": {},
   "source": [
    "a cui si aggiunge la parte a destra"
   ]
  },
  {
   "cell_type": "code",
   "execution_count": 8,
   "metadata": {},
   "outputs": [],
   "source": [
    "list_alfabeto_cifrato.extend(list_alfabeto[0:3])"
   ]
  },
  {
   "cell_type": "markdown",
   "metadata": {},
   "source": [
    "ed abbiamo creato il vettore con la traslazione"
   ]
  },
  {
   "cell_type": "code",
   "execution_count": 9,
   "metadata": {},
   "outputs": [
    {
     "data": {
      "text/plain": [
       "['e',\n",
       " 'f',\n",
       " 'g',\n",
       " 'h',\n",
       " 'i',\n",
       " 'j',\n",
       " 'k',\n",
       " 'l',\n",
       " 'm',\n",
       " 'n',\n",
       " 'o',\n",
       " 'p',\n",
       " 'q',\n",
       " 'r',\n",
       " 's',\n",
       " 't',\n",
       " 'u',\n",
       " 'v',\n",
       " 'w',\n",
       " 'x',\n",
       " 'y',\n",
       " 'z',\n",
       " 'a',\n",
       " 'b',\n",
       " 'c']"
      ]
     },
     "execution_count": 9,
     "metadata": {},
     "output_type": "execute_result"
    }
   ],
   "source": [
    "list_alfabeto_cifrato"
   ]
  },
  {
   "cell_type": "markdown",
   "metadata": {},
   "source": [
    "**nota**: la posizione della lettera nei vettori è la chiave per cifrare o decifrare i testi"
   ]
  },
  {
   "cell_type": "markdown",
   "metadata": {},
   "source": [
    "## Cifrare\n",
    "* scegliere una parola\n",
    "* scomporla in lettere\n",
    "* trovare la posizione della lettera nell'alfabeto ufficiale \n",
    "* individuare il corrispettivo nell'alfabeto traslato"
   ]
  },
  {
   "cell_type": "code",
   "execution_count": 10,
   "metadata": {},
   "outputs": [],
   "source": [
    "# esempio con \"casa\"\n",
    "parola_in_chiaro=\"casa\""
   ]
  },
  {
   "cell_type": "code",
   "execution_count": 11,
   "metadata": {},
   "outputs": [],
   "source": [
    "# raccogliamo gli indici di ogni lettera in un vettore indici_cifratura\n",
    "indici_cifratura = []\n",
    "for lettera in parola_in_chiaro:\n",
    "    indice = list_alfabeto.index(lettera)\n",
    "    indici_cifratura.append(indice)"
   ]
  },
  {
   "cell_type": "code",
   "execution_count": 12,
   "metadata": {},
   "outputs": [
    {
     "name": "stdout",
     "output_type": "stream",
     "text": [
      "[2, 0, 18, 0]\n"
     ]
    }
   ],
   "source": [
    "print(indici_cifratura)"
   ]
  },
  {
   "cell_type": "code",
   "execution_count": 13,
   "metadata": {},
   "outputs": [],
   "source": [
    "# da questi indici creiamo la parola prendendo le lettere nell'alfabeto cifrato\n",
    "parola_cifrata = \"\"\n",
    "for indice in indici_cifratura:\n",
    "    parola_cifrata += list_alfabeto_cifrato[indice]"
   ]
  },
  {
   "cell_type": "code",
   "execution_count": 14,
   "metadata": {},
   "outputs": [
    {
     "data": {
      "text/plain": [
       "'gewe'"
      ]
     },
     "execution_count": 14,
     "metadata": {},
     "output_type": "execute_result"
    }
   ],
   "source": [
    "parola_cifrata"
   ]
  },
  {
   "cell_type": "markdown",
   "metadata": {},
   "source": [
    "## Decifrare\n",
    "* avere una parola cifrata\n",
    "* scomporla in lettere\n",
    "* trovare la posizione della lettera nell'alfabeto cifrato \n",
    "* individuare il corrispettivo nell'alfabeto corretto"
   ]
  },
  {
   "cell_type": "code",
   "execution_count": 15,
   "metadata": {},
   "outputs": [],
   "source": [
    "# decifrare la parola\n",
    "parola_decifrata = \"\"\n",
    "for lettera in parola_cifrata:\n",
    "    indice = list_alfabeto_cifrato.index(lettera)\n",
    "    parola_decifrata += list_alfabeto[indice]"
   ]
  },
  {
   "cell_type": "code",
   "execution_count": 16,
   "metadata": {},
   "outputs": [
    {
     "name": "stdout",
     "output_type": "stream",
     "text": [
      "casa\n"
     ]
    }
   ],
   "source": [
    "print(parola_decifrata)"
   ]
  },
  {
   "cell_type": "markdown",
   "metadata": {},
   "source": [
    "---\n",
    "# creiamo delle funzioni sulle operazioni fatte\n",
    "## cifrare"
   ]
  },
  {
   "cell_type": "code",
   "execution_count": 75,
   "metadata": {},
   "outputs": [],
   "source": [
    "import string\n",
    "def cifrare(parola, traslazione):\n",
    "    alfabeto=string.ascii_lowercase\n",
    "    list_alfabeto=list(alfabeto)\n",
    "    list_alfabeto_cifrato=list_alfabeto[traslazione:]\n",
    "    list_alfabeto_cifrato.extend(list_alfabeto[0:(traslazione-1)])\n",
    "    indici_cifratura = []\n",
    "    for lettera in parola:\n",
    "        indice = list_alfabeto.index(lettera)\n",
    "        indici_cifratura.append(indice)\n",
    "    parola_cifrata = \"\"\n",
    "    for indice in indici_cifratura:\n",
    "        parola_cifrata += list_alfabeto_cifrato[indice]\n",
    "    return parola_cifrata"
   ]
  },
  {
   "cell_type": "markdown",
   "metadata": {},
   "source": [
    "### test"
   ]
  },
  {
   "cell_type": "code",
   "execution_count": 76,
   "metadata": {},
   "outputs": [
    {
     "data": {
      "text/plain": [
       "'gewe'"
      ]
     },
     "execution_count": 76,
     "metadata": {},
     "output_type": "execute_result"
    }
   ],
   "source": [
    "cifrare('casa',4)"
   ]
  },
  {
   "cell_type": "markdown",
   "metadata": {},
   "source": [
    "## decifrare"
   ]
  },
  {
   "cell_type": "code",
   "execution_count": 77,
   "metadata": {},
   "outputs": [],
   "source": [
    "def decifrare(parola, traslazione):\n",
    "    alfabeto=string.ascii_lowercase\n",
    "    list_alfabeto=list(alfabeto)\n",
    "    valore_traslazione=traslazione\n",
    "    list_alfabeto_cifrato=list_alfabeto[valore_traslazione:]\n",
    "    list_alfabeto_cifrato.extend(list_alfabeto[0:(valore_traslazione-1)])\n",
    "    parola_decifrata = \"\"\n",
    "    for lettera in parola_cifrata:\n",
    "        indice = list_alfabeto_cifrato.index(lettera)\n",
    "        parola_decifrata += list_alfabeto[indice]\n",
    "    return parola_decifrata"
   ]
  },
  {
   "cell_type": "code",
   "execution_count": 78,
   "metadata": {},
   "outputs": [
    {
     "data": {
      "text/plain": [
       "'casa'"
      ]
     },
     "execution_count": 78,
     "metadata": {},
     "output_type": "execute_result"
    }
   ],
   "source": [
    "decifrare('gewe',4)"
   ]
  },
  {
   "cell_type": "code",
   "execution_count": 79,
   "metadata": {},
   "outputs": [
    {
     "data": {
      "text/plain": [
       "'dbtb'"
      ]
     },
     "execution_count": 79,
     "metadata": {},
     "output_type": "execute_result"
    }
   ],
   "source": [
    "cifrare('casa',1)"
   ]
  },
  {
   "cell_type": "markdown",
   "metadata": {},
   "source": [
    "---\n",
    "# e se creassimo un oggetto?\n",
    "- nome oggetto: CifrarioCesare\n",
    "- costruttore: creazione dell'alfabeto (input l'alfabeto)\n",
    "- attributi: alfabeto cifrato e alfabeto\n",
    "- metodi: cifra e decifra"
   ]
  },
  {
   "cell_type": "code",
   "execution_count": 106,
   "metadata": {},
   "outputs": [],
   "source": [
    "import string\n",
    "class CifrarioCesare:\n",
    "    def __init__(self, traslazione):\n",
    "        self.list_alfabeto=list(string.ascii_lowercase)\n",
    "        self.list_alfabeto_cifrato=self.list_alfabeto[traslazione:]\n",
    "        self.list_alfabeto_cifrato.extend(self.list_alfabeto[0:(traslazione-1)])\n",
    "    \n",
    "    def cifra(self,parola):\n",
    "        indici_cifratura = []\n",
    "        for lettera in parola:\n",
    "            indice = self.list_alfabeto.index(lettera)\n",
    "            indici_cifratura.append(indice)\n",
    "        parola_cifrata = \"\"\n",
    "        for indice in indici_cifratura:\n",
    "            parola_cifrata += self.list_alfabeto_cifrato[indice]\n",
    "        return parola_cifrata        \n",
    "    \n",
    "    def decifra(self,parola):\n",
    "        parola_decifrata = \"\"\n",
    "        for lettera in parola:\n",
    "            indice = self.list_alfabeto_cifrato.index(lettera)\n",
    "            parola_decifrata += self.list_alfabeto[indice]\n",
    "        return parola_decifrata    \n"
   ]
  },
  {
   "cell_type": "code",
   "execution_count": 110,
   "metadata": {},
   "outputs": [],
   "source": [
    "c= CifrarioCesare(3)"
   ]
  },
  {
   "cell_type": "code",
   "execution_count": 111,
   "metadata": {},
   "outputs": [
    {
     "data": {
      "text/plain": [
       "'fdvd'"
      ]
     },
     "execution_count": 111,
     "metadata": {},
     "output_type": "execute_result"
    }
   ],
   "source": [
    "c.cifra(\"casa\")"
   ]
  },
  {
   "cell_type": "code",
   "execution_count": 113,
   "metadata": {},
   "outputs": [
    {
     "data": {
      "text/plain": [
       "'casa'"
      ]
     },
     "execution_count": 113,
     "metadata": {},
     "output_type": "execute_result"
    }
   ],
   "source": [
    "c.decifra('fdvd')"
   ]
  },
  {
   "cell_type": "markdown",
   "metadata": {},
   "source": [
    "---\n",
    "# Gestire file con la lista di parole criptate\n",
    "## scrittura"
   ]
  },
  {
   "cell_type": "code",
   "execution_count": 114,
   "metadata": {},
   "outputs": [],
   "source": [
    "import os\n",
    "parole=['casa','lavatrice','frigo','tavolo','sedia','forbice','albero','letto']\n",
    "filename=\"dizionario.txt\"\n",
    "cifrario = CifrarioCesare(7)\n",
    "with open(filename,'w') as f:\n",
    "    for parola in parole:\n",
    "        f.write(cifrario.cifra(parola) + os.linesep)"
   ]
  },
  {
   "cell_type": "markdown",
   "metadata": {},
   "source": [
    "## lettura"
   ]
  },
  {
   "cell_type": "code",
   "execution_count": 115,
   "metadata": {},
   "outputs": [],
   "source": [
    "parole_criptate = []\n",
    "with open(filename,'r') as f:\n",
    "    parole_criptate = f.readlines()"
   ]
  },
  {
   "cell_type": "code",
   "execution_count": 116,
   "metadata": {},
   "outputs": [
    {
     "data": {
      "text/plain": [
       "['jhzh\\n',\n",
       " 'shchaypjl\\n',\n",
       " 'mypnv\\n',\n",
       " 'ahcvsv\\n',\n",
       " 'zlkph\\n',\n",
       " 'mvyipjl\\n',\n",
       " 'hsilyv\\n',\n",
       " 'slaav\\n']"
      ]
     },
     "execution_count": 116,
     "metadata": {},
     "output_type": "execute_result"
    }
   ],
   "source": [
    "parole_criptate"
   ]
  },
  {
   "cell_type": "markdown",
   "metadata": {},
   "source": [
    "## mostra parole decriptate"
   ]
  },
  {
   "cell_type": "code",
   "execution_count": 117,
   "metadata": {},
   "outputs": [
    {
     "name": "stdout",
     "output_type": "stream",
     "text": [
      "casa\n",
      "lavatrice\n",
      "frigo\n",
      "tavolo\n",
      "sedia\n",
      "forbice\n",
      "albero\n",
      "letto\n"
     ]
    }
   ],
   "source": [
    "for parola in parole_criptate:\n",
    "    p = parola.strip()\n",
    "    print(cifrario.decifra(p))"
   ]
  },
  {
   "cell_type": "code",
   "execution_count": null,
   "metadata": {},
   "outputs": [],
   "source": []
  },
  {
   "cell_type": "code",
   "execution_count": null,
   "metadata": {},
   "outputs": [],
   "source": []
  }
 ],
 "metadata": {
  "kernelspec": {
   "display_name": "Python 3",
   "language": "python",
   "name": "python3"
  },
  "language_info": {
   "codemirror_mode": {
    "name": "ipython",
    "version": 3
   },
   "file_extension": ".py",
   "mimetype": "text/x-python",
   "name": "python",
   "nbconvert_exporter": "python",
   "pygments_lexer": "ipython3",
   "version": "3.6.5"
  }
 },
 "nbformat": 4,
 "nbformat_minor": 2
}
