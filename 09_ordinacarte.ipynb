{
 "cells": [
  {
   "cell_type": "markdown",
   "metadata": {},
   "source": [
    "# Ordinare un mazzo di carte\n",
    "## azioni da svolgere\n",
    "- creare il mazzo di carte\n",
    "- creare una matrice che rappresenta l'ordinamento\n",
    "- mescolare le carte\n",
    "- creare una matrice con le posizioni delle carte\n"
   ]
  },
  {
   "cell_type": "markdown",
   "metadata": {},
   "source": [
    "![](https://scontent-mxp1-1.xx.fbcdn.net/v/t1.0-9/38085015_10155893857398869_1115240519568457728_o.jpg?_nc_cat=0&oh=dce9990dd78ba13753b955da58fb98c5&oe=5C05F0BE)"
   ]
  },
  {
   "cell_type": "markdown",
   "metadata": {},
   "source": [
    "## Creiamo il mezzo di carte"
   ]
  },
  {
   "cell_type": "markdown",
   "metadata": {},
   "source": [
    "### creazione di una matrice con tutte le carte\n",
    "\n",
    "le carte sono 52 per tipo (cuori, quadri, fiori, picche)<br/>\n",
    "pertanto è necessario avere una matrice dove, su una colonna ho il valore della carta e sull'altra il seme\n",
    "\n",
    "**nota**: una singola matrice si trova in **a**\n",
    "**a** rappresenta tutte le carte del mazzo con un attributo per il seme ed uno per il valore assegnato"
   ]
  },
  {
   "cell_type": "code",
   "execution_count": 13,
   "metadata": {},
   "outputs": [
    {
     "name": "stdout",
     "output_type": "stream",
     "text": [
      "0 [0, 0] \r\n",
      "1 [0, 0] \r\n",
      "2 [0, 0] \r\n",
      "3 [0, 0] \r\n",
      "4 [0, 0] \r\n",
      "5 [0, 0] \r\n",
      "6 [0, 0] \r\n",
      "7 [0, 0] \r\n",
      "8 [0, 0] \r\n",
      "9 [0, 0] \r\n",
      "10 [0, 0] \r\n",
      "11 [0, 0] \r\n",
      "12 [0, 0] \r\n",
      "13 [0, 0] \r\n",
      "14 [0, 0] \r\n",
      "15 [0, 0] \r\n",
      "16 [0, 0] \r\n",
      "17 [0, 0] \r\n",
      "18 [0, 0] \r\n",
      "19 [0, 0] \r\n",
      "20 [0, 0] \r\n",
      "21 [0, 0] \r\n",
      "22 [0, 0] \r\n",
      "23 [0, 0] \r\n",
      "24 [0, 0] \r\n",
      "25 [0, 0] \r\n",
      "26 [0, 0] \r\n",
      "27 [0, 0] \r\n",
      "28 [0, 0] \r\n",
      "29 [0, 0] \r\n",
      "30 [0, 0] \r\n",
      "31 [0, 0] \r\n",
      "32 [0, 0] \r\n",
      "33 [0, 0] \r\n",
      "34 [0, 0] \r\n",
      "35 [0, 0] \r\n",
      "36 [0, 0] \r\n",
      "37 [0, 0] \r\n",
      "38 [0, 0] \r\n",
      "39 [0, 0] \r\n",
      "40 [0, 0] \r\n",
      "41 [0, 0] \r\n",
      "42 [0, 0] \r\n",
      "43 [0, 0] \r\n",
      "44 [0, 0] \r\n",
      "45 [0, 0] \r\n",
      "46 [0, 0] \r\n",
      "47 [0, 0] \r\n",
      "48 [0, 0] \r\n",
      "49 [0, 0] \r\n",
      "50 [0, 0] \r\n",
      "51 [0, 0] \r\n"
     ]
    }
   ],
   "source": [
    "#Inizializza matrice carte\n",
    "deckrow = 52\n",
    "deckcol = 2\n",
    "a = [0] * deckrow\n",
    "for i in range(deckrow):\n",
    "    a[i] = [0] * deckcol\n",
    "    print (i,a[i],\"\\r\")"
   ]
  },
  {
   "cell_type": "markdown",
   "metadata": {},
   "source": [
    "è come se avessimo generato 52 carte bianche dove è necessario aggiungere il seme e il colore"
   ]
  },
  {
   "cell_type": "markdown",
   "metadata": {},
   "source": [
    "### creazione del la matrice di ordinamento\n",
    "la matrice è fatta da 4 colonne ( = i semi) e 13 righe ( = le carte raggruppate per semi)"
   ]
  },
  {
   "cell_type": "code",
   "execution_count": 14,
   "metadata": {},
   "outputs": [
    {
     "name": "stdout",
     "output_type": "stream",
     "text": [
      "0 [0, 0, 0, 0] \r\n",
      "1 [0, 0, 0, 0] \r\n",
      "2 [0, 0, 0, 0] \r\n",
      "3 [0, 0, 0, 0] \r\n",
      "4 [0, 0, 0, 0] \r\n",
      "5 [0, 0, 0, 0] \r\n",
      "6 [0, 0, 0, 0] \r\n",
      "7 [0, 0, 0, 0] \r\n",
      "8 [0, 0, 0, 0] \r\n",
      "9 [0, 0, 0, 0] \r\n",
      "10 [0, 0, 0, 0] \r\n",
      "11 [0, 0, 0, 0] \r\n",
      "12 [0, 0, 0, 0] \r\n"
     ]
    }
   ],
   "source": [
    "# Inizializza matrice per ordinamento\n",
    "ordval=13\n",
    "ordsuit=4\n",
    "b= [0] * ordval\n",
    "for i in range(ordval):\n",
    "    b[i] = [0] * ordsuit\n",
    "    print (i, b[i], '\\r')"
   ]
  },
  {
   "cell_type": "markdown",
   "metadata": {},
   "source": [
    "#### La matrice serve a creare una mappatura come questa\n",
    "\n",
    "| Cuori | Quadri | Fiori | Picche |\n",
    "| ------|:------:|:-----:|-------:|\n",
    "|    1  |    1   |   1   |   1    |\n",
    "|    2  |    2   |   2   |   2    |\n",
    "|    3  |    3   |   3   |   3    |\n",
    "|    4  |    4   |   4   |   4    |\n",
    "|    5  |    5   |   5   |   5    |\n",
    "|    6  |    6   |   6   |   6    |\n",
    "|    7  |    7   |   7   |   7    |\n",
    "|    8  |    8   |   8   |   8    |\n",
    "|    9  |    9   |   9   |   9    |\n",
    "|   10  |   10   |  10   |  10    |\n",
    "|   11  |   11   |  11   |  11    |\n",
    "|   12  |   12   |  12   |  12    |\n",
    "|   13  |   13   |  13   |  13    |"
   ]
  },
  {
   "cell_type": "markdown",
   "metadata": {},
   "source": [
    "**nota**: la matrice dell'ordinamento si trova in **b**"
   ]
  },
  {
   "cell_type": "markdown",
   "metadata": {},
   "source": [
    "## generazione del mazzo di carte\n",
    "si assegna: \n",
    "- 0 => Cuori\n",
    "- 1 => Quadri\n",
    "- 2 => Fiori\n",
    "- 3 => Picche"
   ]
  },
  {
   "cell_type": "code",
   "execution_count": 15,
   "metadata": {},
   "outputs": [],
   "source": [
    "# Generiamo il mazzo di carte\n",
    "# a[i][.]=valori: 0) Cuori; 1) Quadri; 2) Fiori; 3) Picche\n",
    "# a[.][j]=valori: 0-12\n",
    "count=-1\n",
    "for i in range(ordsuit):\n",
    "    for j in range(ordval):\n",
    "        count +=1\n",
    "        #print (count, i, j)\n",
    "        a[count][0]=i\n",
    "        a[count][1]=j"
   ]
  },
  {
   "cell_type": "markdown",
   "metadata": {},
   "source": [
    "### le carte sono ordinate\n"
   ]
  },
  {
   "cell_type": "code",
   "execution_count": 16,
   "metadata": {},
   "outputs": [
    {
     "name": "stdout",
     "output_type": "stream",
     "text": [
      "0 [0, 0] \r\n",
      "1 [0, 1] \r\n",
      "2 [0, 2] \r\n",
      "3 [0, 3] \r\n",
      "4 [0, 4] \r\n",
      "5 [0, 5] \r\n",
      "6 [0, 6] \r\n",
      "7 [0, 7] \r\n",
      "8 [0, 8] \r\n",
      "9 [0, 9] \r\n",
      "10 [0, 10] \r\n",
      "11 [0, 11] \r\n",
      "12 [0, 12] \r\n",
      "13 [1, 0] \r\n",
      "14 [1, 1] \r\n",
      "15 [1, 2] \r\n",
      "16 [1, 3] \r\n",
      "17 [1, 4] \r\n",
      "18 [1, 5] \r\n",
      "19 [1, 6] \r\n",
      "20 [1, 7] \r\n",
      "21 [1, 8] \r\n",
      "22 [1, 9] \r\n",
      "23 [1, 10] \r\n",
      "24 [1, 11] \r\n",
      "25 [1, 12] \r\n",
      "26 [2, 0] \r\n",
      "27 [2, 1] \r\n",
      "28 [2, 2] \r\n",
      "29 [2, 3] \r\n",
      "30 [2, 4] \r\n",
      "31 [2, 5] \r\n",
      "32 [2, 6] \r\n",
      "33 [2, 7] \r\n",
      "34 [2, 8] \r\n",
      "35 [2, 9] \r\n",
      "36 [2, 10] \r\n",
      "37 [2, 11] \r\n",
      "38 [2, 12] \r\n",
      "39 [3, 0] \r\n",
      "40 [3, 1] \r\n",
      "41 [3, 2] \r\n",
      "42 [3, 3] \r\n",
      "43 [3, 4] \r\n",
      "44 [3, 5] \r\n",
      "45 [3, 6] \r\n",
      "46 [3, 7] \r\n",
      "47 [3, 8] \r\n",
      "48 [3, 9] \r\n",
      "49 [3, 10] \r\n",
      "50 [3, 11] \r\n",
      "51 [3, 12] \r\n"
     ]
    }
   ],
   "source": [
    "for i in range(deckrow):\n",
    "    print (i, a[i],\"\\r\")"
   ]
  },
  {
   "cell_type": "markdown",
   "metadata": {},
   "source": [
    "### mescolamento delle carte"
   ]
  },
  {
   "cell_type": "code",
   "execution_count": 17,
   "metadata": {},
   "outputs": [],
   "source": [
    "#import del modulo per i numeri casuali\n",
    "import random"
   ]
  },
  {
   "cell_type": "code",
   "execution_count": 21,
   "metadata": {},
   "outputs": [],
   "source": [
    "# Mescoliamo le carte\n",
    "val=0 #valore 0 da cui partire\n",
    "suit=0 #seme 0 (= Cuori)\n",
    "#si prende ogni singola carta\n",
    "for i in range(deckrow):\n",
    "    #si generano due valori casuali (p1 e p2) fra 0 e la lunghezza del mazzo delle carte (deckrow = 52)\n",
    "    p1=(random.randrange(0,deckrow))\n",
    "    p2=(random.randrange(0,deckrow))\n",
    "    #se i due valori non sono uguali allora si mette nel mazzo una carta \n",
    "    if p1!=p2:\n",
    "        #con i seguenti valori\n",
    "        suit=a[p1][0] #sceglie il seme presente nella carta alla posizione p1 nella prima colonna (seme)\n",
    "        val=a[p1][1] #sceglie il valore presente nella carta alla posizione p1 nella seconda colonna (valore)\n",
    "        \n",
    "        #assegna alla carta scelta il seme e il valore dal secondo numero casuale generato\n",
    "        a[p1][0]=a[p2][0]\n",
    "        a[p1][1]=a[p2][1]\n",
    "        \n",
    "        #scambia seme e valore della carta presente nella posizione p2\n",
    "        a[p2][0]=suit\n",
    "        a[p2][1]=val\n",
    "        #print (a[p1],p1,\" \", a[p2],p2)\n"
   ]
  },
  {
   "cell_type": "markdown",
   "metadata": {},
   "source": [
    "## visualizzazione del mazzo di carte ottenuto nel mescolamento"
   ]
  },
  {
   "cell_type": "code",
   "execution_count": 26,
   "metadata": {},
   "outputs": [
    {
     "name": "stdout",
     "output_type": "stream",
     "text": [
      "0 ) [1, 9]\n",
      "1 ) [2, 6]\n",
      "2 ) [1, 6]\n",
      "3 ) [0, 12]\n",
      "4 ) [2, 9]\n",
      "5 ) [0, 11]\n",
      "6 ) [0, 8]\n",
      "7 ) [3, 2]\n",
      "8 ) [3, 7]\n",
      "9 ) [2, 4]\n",
      "10 ) [3, 8]\n",
      "11 ) [3, 3]\n",
      "12 ) [1, 4]\n",
      "13 ) [0, 0]\n",
      "14 ) [2, 7]\n",
      "15 ) [1, 7]\n",
      "16 ) [3, 4]\n",
      "17 ) [3, 11]\n",
      "18 ) [0, 4]\n",
      "19 ) [2, 11]\n",
      "20 ) [0, 1]\n",
      "21 ) [1, 3]\n",
      "22 ) [2, 1]\n",
      "23 ) [1, 0]\n",
      "24 ) [1, 5]\n",
      "25 ) [3, 12]\n",
      "26 ) [2, 2]\n",
      "27 ) [1, 12]\n",
      "28 ) [0, 2]\n",
      "29 ) [1, 2]\n",
      "30 ) [1, 1]\n",
      "31 ) [0, 6]\n",
      "32 ) [3, 10]\n",
      "33 ) [1, 8]\n",
      "34 ) [3, 0]\n",
      "35 ) [2, 5]\n",
      "36 ) [2, 10]\n",
      "37 ) [3, 5]\n",
      "38 ) [1, 10]\n",
      "39 ) [2, 3]\n",
      "40 ) [0, 3]\n",
      "41 ) [0, 10]\n",
      "42 ) [3, 6]\n",
      "43 ) [2, 0]\n",
      "44 ) [0, 5]\n",
      "45 ) [1, 11]\n",
      "46 ) [2, 12]\n",
      "47 ) [3, 1]\n",
      "48 ) [3, 9]\n",
      "49 ) [0, 9]\n",
      "50 ) [0, 7]\n",
      "51 ) [2, 8]\n"
     ]
    }
   ],
   "source": [
    "for i in range(deckrow):\n",
    "    print (i,\")\",a[i])"
   ]
  },
  {
   "cell_type": "markdown",
   "metadata": {},
   "source": [
    "## Ordinamento delle carte"
   ]
  },
  {
   "cell_type": "code",
   "execution_count": 27,
   "metadata": {},
   "outputs": [],
   "source": [
    "# procedura di ordinamento\n",
    "# si inizializzazione le variabili di valore e seme a zero\n",
    "val=0\n",
    "suit=0\n",
    "\n",
    "#si prende ciascuna carta dal mazzo (deckrow)\n",
    "for i in range(deckrow):\n",
    "    #si legge per ciascuna il seme\n",
    "    suit=a[i][0]\n",
    "    #e il suo valore\n",
    "    val=a[i][1]\n",
    "    #si assegna il valore trovato nella relativa posizione della matrice\n",
    "    b[val][suit]=i"
   ]
  },
  {
   "cell_type": "markdown",
   "metadata": {},
   "source": [
    "## stampa della matrice ottenuta"
   ]
  },
  {
   "cell_type": "code",
   "execution_count": 28,
   "metadata": {},
   "outputs": [
    {
     "name": "stdout",
     "output_type": "stream",
     "text": [
      "[13, 23, 43, 34]\n",
      "[20, 30, 22, 47]\n",
      "[28, 29, 26, 7]\n",
      "[40, 21, 39, 11]\n",
      "[18, 12, 9, 16]\n",
      "[44, 24, 35, 37]\n",
      "[31, 2, 1, 42]\n",
      "[50, 15, 14, 8]\n",
      "[6, 33, 51, 10]\n",
      "[49, 0, 4, 48]\n",
      "[41, 38, 36, 32]\n",
      "[5, 45, 19, 17]\n",
      "[3, 27, 46, 25]\n"
     ]
    }
   ],
   "source": [
    "for i in range(ordval):\n",
    "    print(b[i])"
   ]
  },
  {
   "cell_type": "markdown",
   "metadata": {},
   "source": [
    "## ogni singolo numero rappresenta la posizione della carta nel mazzo rispetto alla matrice di ordinamento\n",
    "\n",
    "| Cuori | Quadri | Fiori | Picche |\n",
    "| ------|:------:|:-----:|-------:|\n",
    "|    1  |    1   |   1   |   1    |\n",
    "|    2  |    2   |   2   |   2    |\n",
    "|    3  |    3   |   3   |   3    |\n",
    "|    4  |    4   |   4   |   4    |\n",
    "|    5  |    5   |   5   |   5    |\n",
    "|    6  |    6   |   6   |   6    |\n",
    "|    7  |    7   |   7   |   7    |\n",
    "|    8  |    8   |   8   |   8    |\n",
    "|    9  |    9   |   9   |   9    |\n",
    "|   10  |   10   |  10   |  10    |\n",
    "|   11  |   11   |  11   |  11    |\n",
    "|   12  |   12   |  12   |  12    |\n",
    "|   13  |   13   |  13   |  13    |\n"
   ]
  },
  {
   "cell_type": "markdown",
   "metadata": {},
   "source": [
    "## dove si trova il tre di cuori?"
   ]
  },
  {
   "cell_type": "markdown",
   "metadata": {},
   "source": [
    "Risposta:\n",
    "- prima colonna\n",
    "- terza riga"
   ]
  },
  {
   "cell_type": "code",
   "execution_count": null,
   "metadata": {},
   "outputs": [],
   "source": []
  },
  {
   "cell_type": "code",
   "execution_count": null,
   "metadata": {},
   "outputs": [],
   "source": []
  }
 ],
 "metadata": {
  "kernelspec": {
   "display_name": "Python 3",
   "language": "python",
   "name": "python3"
  },
  "language_info": {
   "codemirror_mode": {
    "name": "ipython",
    "version": 3
   },
   "file_extension": ".py",
   "mimetype": "text/x-python",
   "name": "python",
   "nbconvert_exporter": "python",
   "pygments_lexer": "ipython3",
   "version": "3.6.5"
  }
 },
 "nbformat": 4,
 "nbformat_minor": 2
}
