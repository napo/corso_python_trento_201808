{
 "cells": [
  {
   "cell_type": "markdown",
   "metadata": {},
   "source": [
    "# Hangman\n",
    "- Al giocatore viene proposta una parola da indovinare.\n",
    "- Sullo schermo viene presentata una stringa con tanti asterischi quanti sono i caratteri che formano la parola.\n",
    "- Il giocatore inserisce una lettera alla volta.\n",
    "- Ogni volta che una lettera appartiene alla parola da conoscere, questa viene mostrata\n",
    "- Le lettere sbagliate vengono conteggiate.\n",
    "- Se si arriva a 5 lettere sbagliate, allora vince il computer, altrimenti vince il giocatore\n",
    "- La parola viene mostrata"
   ]
  },
  {
   "cell_type": "markdown",
   "metadata": {},
   "source": [
    "---\n",
    "# Training\n",
    "## cominciamo a capire come indovinare un numero\n",
    "decidiamo un numero e chiediamo all'utente di indovinarlo"
   ]
  },
  {
   "cell_type": "code",
   "execution_count": 10,
   "metadata": {},
   "outputs": [],
   "source": [
    "#numero da indovinare\n",
    "numero_da_indovinare=3"
   ]
  },
  {
   "cell_type": "code",
   "execution_count": 11,
   "metadata": {},
   "outputs": [
    {
     "name": "stdout",
     "output_type": "stream",
     "text": [
      "Inserire un numero fra 0 e 9 2\n",
      "Hai perso!\n"
     ]
    }
   ],
   "source": [
    "# richiesta di input\n",
    "numero_giocatore=input(\"Inserire un numero fra 0 e 9 \")\n",
    "#serve trasformare la stringa in numero\n",
    "numero_giocatore = int(numero_giocatore)\n",
    "if numero_giocatore == numero_da_indovinare:\n",
    "    print(\"Hai vinto\")\n",
    "else:\n",
    "    print(\"Hai perso!\")"
   ]
  },
  {
   "cell_type": "markdown",
   "metadata": {},
   "source": [
    "## attenzione: l'utente potrebbe inserire qualsiasi carattere\n",
    "serve costruire una funzione di controllo\n",
    "- il valore deve essere fra 0 e 9"
   ]
  },
  {
   "cell_type": "code",
   "execution_count": 12,
   "metadata": {},
   "outputs": [
    {
     "name": "stdout",
     "output_type": "stream",
     "text": [
      "Inserire un numero fra 0 e 9 2\n"
     ]
    }
   ],
   "source": [
    "numero_giocatore=input(\"Inserire un numero fra 0 e 9 \")\n",
    "#trasformazione in intero\n",
    "numero_giocatore = int(numero_giocatore)\n",
    "if numero_giocatore > 9:\n",
    "    print(\"si accettano solo numeri fra 0 e 9 \")"
   ]
  },
  {
   "cell_type": "code",
   "execution_count": 13,
   "metadata": {},
   "outputs": [
    {
     "name": "stdout",
     "output_type": "stream",
     "text": [
      "Inserire un numero fra 0 e 9 2\n"
     ]
    }
   ],
   "source": [
    "# occorre prevnire l'inserimento di lettere\n",
    "numero_giocatore=input(\"Inserire un numero fra 0 e 9 \")\n",
    "#trasformazione in intero\n",
    "try:\n",
    "    numero_giocatore = int(numero_giocatore)\n",
    "    if numero_giocatore > 9:\n",
    "        print(\"si accettano solo numeri fra 0 e 9 \")\n",
    "except ValueError as error:\n",
    "    print(\"Si accettano solo valori numerici\")\n"
   ]
  },
  {
   "cell_type": "markdown",
   "metadata": {},
   "source": [
    "### occorre continuare a chiedere all'utente di inserire il valore"
   ]
  },
  {
   "cell_type": "code",
   "execution_count": 14,
   "metadata": {},
   "outputs": [
    {
     "name": "stdout",
     "output_type": "stream",
     "text": [
      "Inserire un numero fra 0 e 92\n"
     ]
    }
   ],
   "source": [
    "while True:\n",
    "    numero_giocatore=input(\"Inserire un numero fra 0 e 9\")\n",
    "    try:\n",
    "        numero_giocatore = int(numero_giocatore)\n",
    "        if numero_giocatore > 9:\n",
    "            print(\"si accettano solo numeri fra 0 e 9\")\n",
    "        else:\n",
    "            break\n",
    "    except ValueError as error:\n",
    "        print(\"Si accettano solo valori numerici\")\n",
    "        pass"
   ]
  },
  {
   "cell_type": "markdown",
   "metadata": {},
   "source": [
    "---\n",
    "# Cominciamo\n",
    "## recuperiamo il dizionario\n",
    "\n"
   ]
  },
  {
   "cell_type": "code",
   "execution_count": 15,
   "metadata": {},
   "outputs": [],
   "source": [
    "filename=\"dizionario.txt\"\n",
    "parole_criptate = []\n",
    "with open(filename,'r') as f:\n",
    "    parole_criptate = f.readlines()"
   ]
  },
  {
   "cell_type": "markdown",
   "metadata": {},
   "source": [
    "## prendiamo un numero a caso"
   ]
  },
  {
   "cell_type": "code",
   "execution_count": 16,
   "metadata": {},
   "outputs": [],
   "source": [
    "import random"
   ]
  },
  {
   "cell_type": "code",
   "execution_count": 17,
   "metadata": {},
   "outputs": [],
   "source": [
    "numero_a_caso = random.randrange(0,(len(parole_criptate)-1))"
   ]
  },
  {
   "cell_type": "code",
   "execution_count": 18,
   "metadata": {},
   "outputs": [],
   "source": [
    "parola_criptata = parole_criptate[numero_a_caso]"
   ]
  },
  {
   "cell_type": "code",
   "execution_count": 19,
   "metadata": {},
   "outputs": [
    {
     "data": {
      "text/plain": [
       "'zlkph\\n'"
      ]
     },
     "execution_count": 19,
     "metadata": {},
     "output_type": "execute_result"
    }
   ],
   "source": [
    "parola_criptata"
   ]
  },
  {
   "cell_type": "code",
   "execution_count": 20,
   "metadata": {},
   "outputs": [],
   "source": [
    "parola_criptata = parola_criptata.strip()"
   ]
  },
  {
   "cell_type": "code",
   "execution_count": 21,
   "metadata": {},
   "outputs": [
    {
     "data": {
      "text/plain": [
       "'zlkph'"
      ]
     },
     "execution_count": 21,
     "metadata": {},
     "output_type": "execute_result"
    }
   ],
   "source": [
    "parola_criptata"
   ]
  },
  {
   "cell_type": "markdown",
   "metadata": {},
   "source": [
    "## usiamo l'oggetto del cifrario di Cesare\n"
   ]
  },
  {
   "cell_type": "code",
   "execution_count": 22,
   "metadata": {},
   "outputs": [],
   "source": [
    "import string\n",
    "class CifrarioCesare:\n",
    "    def __init__(self, traslazione):\n",
    "        self.list_alfabeto=list(string.ascii_lowercase)\n",
    "        self.traslazione=traslazione\n",
    "        self.list_alfabeto_cifrato=self.list_alfabeto[traslazione:]\n",
    "        self.list_alfabeto_cifrato.extend(self.list_alfabeto[0:(traslazione-1)])\n",
    "    \n",
    "    def cifra(self,parola):\n",
    "        indici_cifratura = []\n",
    "        for lettera in parola:\n",
    "            indice = self.list_alfabeto.index(lettera)\n",
    "            indici_cifratura.append(indice)\n",
    "        parola_cifrata = \"\"\n",
    "        for indice in indici_cifratura:\n",
    "            parola_cifrata += self.list_alfabeto_cifrato[indice]\n",
    "        return parola_cifrata        \n",
    "    \n",
    "    def decifra(self,parola):\n",
    "        parola_decifrata = \"\"\n",
    "        for lettera in parola:\n",
    "            indice = self.list_alfabeto_cifrato.index(lettera)\n",
    "            parola_decifrata += self.list_alfabeto[indice]\n",
    "        return parola_decifrata  "
   ]
  },
  {
   "cell_type": "code",
   "execution_count": 23,
   "metadata": {},
   "outputs": [],
   "source": [
    "cifrario = CifrarioCesare(7)"
   ]
  },
  {
   "cell_type": "code",
   "execution_count": 24,
   "metadata": {},
   "outputs": [],
   "source": [
    "parola_da_indovinare = cifrario.decifra(parola_criptata)"
   ]
  },
  {
   "cell_type": "code",
   "execution_count": 25,
   "metadata": {},
   "outputs": [
    {
     "name": "stdout",
     "output_type": "stream",
     "text": [
      "La parola da indovinare è lunga 5 caratteri\n"
     ]
    }
   ],
   "source": [
    "print(\"La parola da indovinare è lunga %i caratteri\" % len(parola_da_indovinare))"
   ]
  },
  {
   "cell_type": "code",
   "execution_count": 26,
   "metadata": {},
   "outputs": [],
   "source": [
    "stampa_parola = \"\"\n",
    "for i in range(len(parola_da_indovinare)-1):\n",
    "    stampa_parola += \" _ \""
   ]
  },
  {
   "cell_type": "code",
   "execution_count": 27,
   "metadata": {},
   "outputs": [
    {
     "name": "stdout",
     "output_type": "stream",
     "text": [
      " _  _  _  _ \n",
      "dammi una lettera a\n"
     ]
    }
   ],
   "source": [
    "print(stampa_parola)\n",
    "lettera=input(\"dammi una lettera \")"
   ]
  },
  {
   "cell_type": "code",
   "execution_count": 28,
   "metadata": {},
   "outputs": [
    {
     "name": "stdout",
     "output_type": "stream",
     "text": [
      "la lettera è presente\n"
     ]
    }
   ],
   "source": [
    "if lettera in parola_da_indovinare:\n",
    "    print(\"la lettera è presente\")\n",
    "else:\n",
    "    print(\"la lettera non è presente\")"
   ]
  },
  {
   "cell_type": "markdown",
   "metadata": {},
   "source": [
    "## Se la lettera è presente bisogna restituire all'utente dove si trova"
   ]
  },
  {
   "cell_type": "code",
   "execution_count": 30,
   "metadata": {},
   "outputs": [
    {
     "data": {
      "text/plain": [
       "4"
      ]
     },
     "execution_count": 30,
     "metadata": {},
     "output_type": "execute_result"
    }
   ],
   "source": [
    "# questa funzione ritorna la prima occorrenza\n",
    "parola_da_indovinare.find(lettera)\n",
    "# ne esistono altre?"
   ]
  },
  {
   "cell_type": "code",
   "execution_count": 37,
   "metadata": {},
   "outputs": [],
   "source": [
    "def trovaIndiciLettere(lettera,parola):\n",
    "    indici = []\n",
    "    parole = list(parola)\n",
    "    for p in parole:\n",
    "        if p == lettera:\n",
    "            indici.append(parole.index(p))\n",
    "    return indici\n"
   ]
  },
  {
   "cell_type": "code",
   "execution_count": 35,
   "metadata": {},
   "outputs": [],
   "source": [
    "indici=trovaIndiciLettere(lettera,parola_da_indovinare)"
   ]
  },
  {
   "cell_type": "code",
   "execution_count": 39,
   "metadata": {},
   "outputs": [
    {
     "name": "stdout",
     "output_type": "stream",
     "text": [
      " _  _  _  a \n"
     ]
    }
   ],
   "source": [
    "stampa_parola = \"\"\n",
    "for i in range(len(parola_da_indovinare)-1):\n",
    "    if i+1 in indici:\n",
    "        stampa_parola += \" \" + lettera + \" \"\n",
    "    else:\n",
    "        stampa_parola += \" _ \"\n",
    "        \n",
    "print(stampa_parola)"
   ]
  },
  {
   "cell_type": "code",
   "execution_count": 40,
   "metadata": {},
   "outputs": [],
   "source": [
    "## teniamo un elenco di parole usate\n",
    "parole_usate = []"
   ]
  },
  {
   "cell_type": "code",
   "execution_count": null,
   "metadata": {},
   "outputs": [],
   "source": []
  }
 ],
 "metadata": {
  "kernelspec": {
   "display_name": "Python 3",
   "language": "python",
   "name": "python3"
  },
  "language_info": {
   "codemirror_mode": {
    "name": "ipython",
    "version": 3
   },
   "file_extension": ".py",
   "mimetype": "text/x-python",
   "name": "python",
   "nbconvert_exporter": "python",
   "pygments_lexer": "ipython3",
   "version": "3.6.5"
  }
 },
 "nbformat": 4,
 "nbformat_minor": 2
}
